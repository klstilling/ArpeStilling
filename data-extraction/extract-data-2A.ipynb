{
 "cells": [
  {
   "cell_type": "markdown",
   "metadata": {},
   "source": [
    "# Data extraction for Assignment 2A\n",
    "First, we import the modules that we need for the data extraction. After importing the modules, we will read the dataset into memory."
   ]
  },
  {
   "cell_type": "code",
   "execution_count": null,
   "metadata": {
    "collapsed": true
   },
   "outputs": [],
   "source": [
    "import numpy as np\n",
    "import pandas as pd\n",
    "import json\n",
    "from collections import defaultdict\n",
    "\n",
    "# define categories and years which we will use later for exclusion of unwanted data\n",
    "categories = ['PROSTITUTION', 'VEHICLE THEFT']\n",
    "years = [2003, 2015]\n",
    "\n",
    "print(\"Reading in data...\")\n",
    "df = pd.read_csv('sfpd_dataset.csv', usecols=['Date', 'Category', 'PdDistrict'])\n",
    "df['Date'] = pd.to_datetime(df['Date'],infer_datetime_format=True)\n",
    "print(\"Done!\")\n",
    "\n",
    "print(\"We have\", len(df),\n",
    "        \"total number of incidents in PROSTITUTION and VEHICLE THEFT\")"
   ]
  },
  {
   "cell_type": "markdown",
   "metadata": {},
   "source": [
    "We initiate counters for counting the number of crimes in the categories\n",
    "for each district and counting the number of total crime incidents in the districts.\n",
    "We then iterate through the dataset and count the number\n",
    "of crimes. We then split out loaded dataframe into one dataframe for each year."
   ]
  },
  {
   "cell_type": "code",
   "execution_count": null,
   "metadata": {
    "collapsed": true
   },
   "outputs": [],
   "source": [
    "# counter for counting total crime for the year district-wise\n",
    "total_crime_counter = defaultdict(lambda : defaultdict(int))\n",
    "# counter for counting categorical crime on a per year basis\n",
    "counters = defaultdict(lambda : defaultdict(lambda : defaultdict(int)))\n",
    "\n",
    "print(\"Preparing dataframes: group by year\")\n",
    "dfs = {\n",
    "        years[0]: df[df['Date'].dt.year == years[0]],\n",
    "        years[1]: df[df['Date'].dt.year == years[1]],\n",
    "}\n",
    "print(\"Done!\")"
   ]
  },
  {
   "cell_type": "markdown",
   "metadata": {},
   "source": [
    "Now we are ready for counting the total crime in the districts for each year in all categories."
   ]
  },
  {
   "cell_type": "code",
   "execution_count": null,
   "metadata": {
    "collapsed": true
   },
   "outputs": [],
   "source": [
    "print(\"Counting total crime for each year...\")\n",
    "for year, df in dfs.items():\n",
    "    for _, row in df.iterrows():\n",
    "        total_crime_counter[year][row['PdDistrict']] += 1\n",
    "print(\"Done!\")"
   ]
  },
  {
   "cell_type": "markdown",
   "metadata": {},
   "source": [
    "We will continue on and prepare new dataframes by excluding every category that is not in our list of `categories`.\n",
    "After the exclusion, we will do another count."
   ]
  },
  {
   "cell_type": "code",
   "execution_count": null,
   "metadata": {
    "collapsed": true
   },
   "outputs": [],
   "source": [
    "print(\"Preparing dataframes: exclude categories\")\n",
    "dfs[years[0]] = dfs[years[0]][dfs[years[0]]['Category'].isin(categories)]\n",
    "dfs[years[1]] = dfs[years[1]][dfs[years[1]]['Category'].isin(categories)]\n",
    "print(\"Done!\")\n",
    "\n",
    "print(\"Counting categorical crime for each year on a per district basis...\")\n",
    "for year, df in dfs.items():\n",
    "    for _, row in df.iterrows():\n",
    "        year = row['Date'].year\n",
    "        counters[year][row['PdDistrict']][row['Category']] += 1\n",
    "print(\"Done!\")"
   ]
  },
  {
   "cell_type": "markdown",
   "metadata": {},
   "source": [
    "We no longer need the counting functionality, so we prepare to save our dataset\n",
    "by converting it to dictionaries, which can easily be converted to the JSON\n",
    "format and saved to a file."
   ]
  },
  {
   "cell_type": "code",
   "execution_count": null,
   "metadata": {
    "collapsed": true
   },
   "outputs": [],
   "source": [
    "print(\"Converting the counters to JSON objects...\")\n",
    "for year, counter in counters.items():\n",
    "    districts = []\n",
    "    counter = dict(counter)\n",
    "    for district, crime_counts in counter.items():\n",
    "        crime_counts = dict(crime_counts)\n",
    "        districts.append({\n",
    "            'district': district,\n",
    "            'total_crime': total_crime_counter[year][district],\n",
    "            **crime_counts, # merge crime_counts dict, python3.5+ only\n",
    "        })\n",
    "\n",
    "    # We save the new dataset to a JSON file\n",
    "    with open(str(year) + '.json', 'w') as f:\n",
    "        json.dump(districts, f) # dumps the python dictionary as a JSON object to f\n",
    "        print(\"Converted and saved as \", str(year), \".json!\")"
   ]
  }
 ],
 "metadata": {
  "kernelspec": {
   "display_name": "Python 3",
   "language": "python",
   "name": "python3"
  },
  "language_info": {
   "codemirror_mode": {
    "name": "ipython",
    "version": 3
   },
   "file_extension": ".py",
   "mimetype": "text/x-python",
   "name": "python",
   "nbconvert_exporter": "python",
   "pygments_lexer": "ipython3",
   "version": "3.6.0"
  }
 },
 "nbformat": 4,
 "nbformat_minor": 2
}
