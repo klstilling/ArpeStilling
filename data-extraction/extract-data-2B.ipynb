{
 "cells": [
  {
   "cell_type": "markdown",
   "metadata": {},
   "source": [
    "# Data Extraction for Assignment 2B\n",
    "\n",
    "This notebook shows how the data used for the visualization in exercise 2B is generated.\n",
    "\n",
    "First, we import the necessary libraries. We also set a random seed such that it is possible to regenerate the exact same dataset (KMeans from sklearn uses randomness).  "
   ]
  },
  {
   "cell_type": "code",
   "execution_count": 2,
   "metadata": {
    "collapsed": true
   },
   "outputs": [],
   "source": [
    "import pandas as pd\n",
    "from sklearn.cluster import KMeans\n",
    "import numpy as np\n",
    "import json\n",
    "\n",
    "np.random.seed(seed=1337)"
   ]
  },
  {
   "cell_type": "markdown",
   "metadata": {},
   "source": [
    "Now we are ready to load the data into a pandas dataframe. We only need the 3 attributes; Category, X and Y. Note that we filter everything that is not in target category \"PROSTITUTION\". "
   ]
  },
  {
   "cell_type": "code",
   "execution_count": 3,
   "metadata": {
    "collapsed": true
   },
   "outputs": [],
   "source": [
    "categories = [\"Category\", \"X\", \"Y\"]\n",
    "\n",
    "# Load the data into a pandas dataframe\n",
    "df = pd.read_csv('../data/Map__Crime_Incidents_-_from_1_Jan_2003.csv', header=0, usecols = categories)\n",
    "\n",
    "# Filter the data on the categories which we focus on\n",
    "df = df.loc[df['Category'].isin([\"PROSTITUTION\"])]\n"
   ]
  },
  {
   "cell_type": "markdown",
   "metadata": {},
   "source": [
    "The dataset has an two outliers with coordinates not in San Francisco. We remove these. "
   ]
  },
  {
   "cell_type": "code",
   "execution_count": 5,
   "metadata": {
    "collapsed": false
   },
   "outputs": [
    {
     "name": "stdout",
     "output_type": "stream",
     "text": [
      "Found an outlier\n",
      "Found an outlier\n"
     ]
    }
   ],
   "source": [
    "lat = df['Y'].tolist()\n",
    "lon = df['X'].tolist()\n",
    "\n",
    "# We know this constant in advance\n",
    "number_of_outliers = 2\n",
    "\n",
    "# Remove outliers \n",
    "for i in range(0, len(lat) - number_of_outliers):\n",
    "    if lat[i] > 80:\n",
    "        print \"Found an outlier\"\n",
    "        del lon[i]\n",
    "        del lat[i]"
   ]
  },
  {
   "cell_type": "markdown",
   "metadata": {},
   "source": [
    "We chose to save the relevant data to a csv file format. The header of the file will correspond to: lat,lon,k2,k3,k4,k5,k6. We save the coordinates of each crime, and the other rows (k2,k3,...,k6) contain the responding classifications from training the different K-means models. \n",
    "\n",
    "We will also need to save the centroids of each model. Since the number of centroids depend on the k-parameter of the K-means model, we store the centroids in dictionaries. Dictionaries are easily conerted to json format, which can be loaded directly into javascript."
   ]
  },
  {
   "cell_type": "code",
   "execution_count": 8,
   "metadata": {
    "collapsed": true
   },
   "outputs": [],
   "source": [
    "predictions = []\n",
    "centroids = {\"k2\" : [], \"k3\" : [], \"k4\" : [], \"k5\" : [], \"k6\" : []}"
   ]
  },
  {
   "cell_type": "markdown",
   "metadata": {},
   "source": [
    "Now, we will train 5 different K-means models."
   ]
  },
  {
   "cell_type": "code",
   "execution_count": 9,
   "metadata": {
    "collapsed": true
   },
   "outputs": [],
   "source": [
    "# The data needs to be in correct format\n",
    "X = np.column_stack((lat, lon))\n",
    "\n",
    "# Train for k = 2..6\n",
    "for i in range(2,7):\n",
    "    # Train\n",
    "    model = KMeans(n_clusters=i)\n",
    "    model.fit(X)\n",
    "    # Append predictions to our list \n",
    "    predictions.append(model.labels_)\n",
    "    \n",
    "    # Append the centroid data to the dictionary\n",
    "    for j in range(0, len(model.cluster_centers_)):\n",
    "        centroid = model.cluster_centers_[j].tolist()\n",
    "        cur_class = model.predict([centroid])[0]\n",
    "        centroids[\"k{0}\".format(i)].append({\"class\" : \"{0}\".format(cur_class), \"lat\" : centroid[0], \"lon\" : centroid[1]})\n"
   ]
  },
  {
   "cell_type": "markdown",
   "metadata": {},
   "source": [
    "Now we have generated all the data, and we simply need to save it to the correct files. First, we save all of the classifications from the different k-means models. We create a pandas dataframe initially consisting of 0's and then we add all of the data.  "
   ]
  },
  {
   "cell_type": "code",
   "execution_count": 17,
   "metadata": {
    "collapsed": false
   },
   "outputs": [],
   "source": [
    "# Create a 0's array for initializing the df\n",
    "n_samples = len(lat)\n",
    "zero_array = np.zeros(shape=(n_samples,7))\n",
    "\n",
    "# Init df for csv\n",
    "df_k = pd.DataFrame(zero_array, columns=[\"lat\", \"lon\", \"k2\", \"k3\", \"k4\", \"k5\", \"k6\"])\n",
    "\n",
    "# Add all the generated data to the dataframe\n",
    "for i in range(n_samples):\n",
    "    # the coordinates\n",
    "    df_k.set_value(i, \"lat\", lat[i])\n",
    "    df_k.set_value(i, \"lon\", lon[i])\n",
    "    \n",
    "    # The different of classifications\n",
    "    for j in range(0,5):\n",
    "        col = \"k{0}\".format((j+2))\n",
    "        df_k.set_value(i, col, predictions[j][i])\n",
    "\n",
    "# Save to file\n",
    "df_k.to_csv(\"classifications.csv\", index=False)"
   ]
  },
  {
   "cell_type": "markdown",
   "metadata": {},
   "source": [
    "Now we save the centroids into a json file."
   ]
  },
  {
   "cell_type": "code",
   "execution_count": 18,
   "metadata": {
    "collapsed": true
   },
   "outputs": [],
   "source": [
    "with open('centroids.json', 'w') as fp:\n",
    "    json.dump(centroids, fp)"
   ]
  },
  {
   "cell_type": "code",
   "execution_count": null,
   "metadata": {
    "collapsed": true
   },
   "outputs": [],
   "source": []
  }
 ],
 "metadata": {
  "kernelspec": {
   "display_name": "Python 2",
   "language": "python",
   "name": "python2"
  },
  "language_info": {
   "codemirror_mode": {
    "name": "ipython",
    "version": 2
   },
   "file_extension": ".py",
   "mimetype": "text/x-python",
   "name": "python",
   "nbconvert_exporter": "python",
   "pygments_lexer": "ipython2",
   "version": "2.7.13"
  }
 },
 "nbformat": 4,
 "nbformat_minor": 2
}
